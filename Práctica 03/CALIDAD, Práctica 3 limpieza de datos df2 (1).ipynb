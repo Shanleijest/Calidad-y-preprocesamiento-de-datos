{
 "cells": [
  {
   "cell_type": "markdown",
   "metadata": {},
   "source": [
    "# Práctica 3: limpieza de datos"
   ]
  },
  {
   "cell_type": "markdown",
   "metadata": {},
   "source": [
    "## Dataframe 2: Oscars-demographics"
   ]
  },
  {
   "cell_type": "code",
   "execution_count": 1,
   "metadata": {},
   "outputs": [],
   "source": [
    "import pandas as pd\n",
    "import numpy as np\n",
    "import seaborn as sns\n",
    "\n",
    "import matplotlib.pyplot as plt\n",
    "import matplotlib.mlab as mlab\n",
    "import matplotlib\n",
    "plt.style.use('ggplot')\n",
    "from matplotlib.pyplot import figure\n",
    "\n",
    "%matplotlib inline\n",
    "matplotlib.rcParams['figure.figsize'] = (12,8)\n",
    "\n",
    "pd.options.mode.chained_assignment = None #silence"
   ]
  },
  {
   "cell_type": "markdown",
   "metadata": {},
   "source": [
    "### Exploración de datos"
   ]
  },
  {
   "cell_type": "code",
   "execution_count": 33,
   "metadata": {},
   "outputs": [
    {
     "data": {
      "text/html": [
       "<div>\n",
       "<style scoped>\n",
       "    .dataframe tbody tr th:only-of-type {\n",
       "        vertical-align: middle;\n",
       "    }\n",
       "\n",
       "    .dataframe tbody tr th {\n",
       "        vertical-align: top;\n",
       "    }\n",
       "\n",
       "    .dataframe thead th {\n",
       "        text-align: right;\n",
       "    }\n",
       "</style>\n",
       "<table border=\"1\" class=\"dataframe\">\n",
       "  <thead>\n",
       "    <tr style=\"text-align: right;\">\n",
       "      <th></th>\n",
       "      <th>_unit_id</th>\n",
       "      <th>_golden</th>\n",
       "      <th>_unit_state</th>\n",
       "      <th>_trusted_judgments</th>\n",
       "      <th>_last_judgment_at</th>\n",
       "      <th>birthplace</th>\n",
       "      <th>birthplace:confidence</th>\n",
       "      <th>date_of_birth</th>\n",
       "      <th>date_of_birth:confidence</th>\n",
       "      <th>race_ethnicity</th>\n",
       "      <th>...</th>\n",
       "      <th>award</th>\n",
       "      <th>biourl</th>\n",
       "      <th>birthplace_gold</th>\n",
       "      <th>date_of_birth_gold</th>\n",
       "      <th>movie</th>\n",
       "      <th>person</th>\n",
       "      <th>race_ethnicity_gold</th>\n",
       "      <th>religion_gold</th>\n",
       "      <th>sexual_orientation_gold</th>\n",
       "      <th>year_of_award_gold</th>\n",
       "    </tr>\n",
       "  </thead>\n",
       "  <tbody>\n",
       "    <tr>\n",
       "      <th>0</th>\n",
       "      <td>670454353</td>\n",
       "      <td>False</td>\n",
       "      <td>finalized</td>\n",
       "      <td>3</td>\n",
       "      <td>2/10/15 3:45</td>\n",
       "      <td>Chisinau, Moldova</td>\n",
       "      <td>1.0</td>\n",
       "      <td>30-Sep-1895</td>\n",
       "      <td>1.0</td>\n",
       "      <td>White</td>\n",
       "      <td>...</td>\n",
       "      <td>Best Director</td>\n",
       "      <td>http://www.nndb.com/people/320/000043191/</td>\n",
       "      <td>NaN</td>\n",
       "      <td>NaN</td>\n",
       "      <td>Two Arabian Knights</td>\n",
       "      <td>Lewis Milestone</td>\n",
       "      <td>NaN</td>\n",
       "      <td>NaN</td>\n",
       "      <td>NaN</td>\n",
       "      <td>NaN</td>\n",
       "    </tr>\n",
       "    <tr>\n",
       "      <th>1</th>\n",
       "      <td>670454354</td>\n",
       "      <td>False</td>\n",
       "      <td>finalized</td>\n",
       "      <td>3</td>\n",
       "      <td>2/10/15 2:03</td>\n",
       "      <td>Glasgow, Scotland</td>\n",
       "      <td>1.0</td>\n",
       "      <td>2-Feb-1886</td>\n",
       "      <td>1.0</td>\n",
       "      <td>White</td>\n",
       "      <td>...</td>\n",
       "      <td>Best Director</td>\n",
       "      <td>http://www.nndb.com/people/626/000042500/</td>\n",
       "      <td>NaN</td>\n",
       "      <td>NaN</td>\n",
       "      <td>The Divine Lady</td>\n",
       "      <td>Frank Lloyd</td>\n",
       "      <td>NaN</td>\n",
       "      <td>NaN</td>\n",
       "      <td>NaN</td>\n",
       "      <td>NaN</td>\n",
       "    </tr>\n",
       "    <tr>\n",
       "      <th>2</th>\n",
       "      <td>670454355</td>\n",
       "      <td>False</td>\n",
       "      <td>finalized</td>\n",
       "      <td>3</td>\n",
       "      <td>2/10/15 2:05</td>\n",
       "      <td>Chisinau, Moldova</td>\n",
       "      <td>1.0</td>\n",
       "      <td>30-Sep-1895</td>\n",
       "      <td>1.0</td>\n",
       "      <td>White</td>\n",
       "      <td>...</td>\n",
       "      <td>Best Director</td>\n",
       "      <td>http://www.nndb.com/people/320/000043191/</td>\n",
       "      <td>NaN</td>\n",
       "      <td>NaN</td>\n",
       "      <td>All Quiet on the Western Front</td>\n",
       "      <td>Lewis Milestone</td>\n",
       "      <td>NaN</td>\n",
       "      <td>NaN</td>\n",
       "      <td>NaN</td>\n",
       "      <td>NaN</td>\n",
       "    </tr>\n",
       "    <tr>\n",
       "      <th>3</th>\n",
       "      <td>670454356</td>\n",
       "      <td>False</td>\n",
       "      <td>finalized</td>\n",
       "      <td>3</td>\n",
       "      <td>2/10/15 2:04</td>\n",
       "      <td>Chicago, Il</td>\n",
       "      <td>1.0</td>\n",
       "      <td>23-Feb-1899</td>\n",
       "      <td>1.0</td>\n",
       "      <td>White</td>\n",
       "      <td>...</td>\n",
       "      <td>Best Director</td>\n",
       "      <td>http://www.nndb.com/people/544/000041421/</td>\n",
       "      <td>NaN</td>\n",
       "      <td>NaN</td>\n",
       "      <td>Skippy</td>\n",
       "      <td>Norman Taurog</td>\n",
       "      <td>NaN</td>\n",
       "      <td>NaN</td>\n",
       "      <td>NaN</td>\n",
       "      <td>NaN</td>\n",
       "    </tr>\n",
       "    <tr>\n",
       "      <th>4</th>\n",
       "      <td>670454357</td>\n",
       "      <td>False</td>\n",
       "      <td>finalized</td>\n",
       "      <td>3</td>\n",
       "      <td>2/10/15 1:48</td>\n",
       "      <td>Salt Lake City, Ut</td>\n",
       "      <td>1.0</td>\n",
       "      <td>23-Apr-1894</td>\n",
       "      <td>1.0</td>\n",
       "      <td>White</td>\n",
       "      <td>...</td>\n",
       "      <td>Best Director</td>\n",
       "      <td>http://www.nndb.com/people/292/000044160/</td>\n",
       "      <td>NaN</td>\n",
       "      <td>NaN</td>\n",
       "      <td>Bad Girl</td>\n",
       "      <td>Frank Borzage</td>\n",
       "      <td>NaN</td>\n",
       "      <td>NaN</td>\n",
       "      <td>NaN</td>\n",
       "      <td>NaN</td>\n",
       "    </tr>\n",
       "  </tbody>\n",
       "</table>\n",
       "<p>5 rows × 27 columns</p>\n",
       "</div>"
      ],
      "text/plain": [
       "    _unit_id  _golden _unit_state  _trusted_judgments _last_judgment_at  \\\n",
       "0  670454353    False   finalized                   3      2/10/15 3:45   \n",
       "1  670454354    False   finalized                   3      2/10/15 2:03   \n",
       "2  670454355    False   finalized                   3      2/10/15 2:05   \n",
       "3  670454356    False   finalized                   3      2/10/15 2:04   \n",
       "4  670454357    False   finalized                   3      2/10/15 1:48   \n",
       "\n",
       "           birthplace  birthplace:confidence date_of_birth  \\\n",
       "0   Chisinau, Moldova                    1.0   30-Sep-1895   \n",
       "1   Glasgow, Scotland                    1.0    2-Feb-1886   \n",
       "2   Chisinau, Moldova                    1.0   30-Sep-1895   \n",
       "3         Chicago, Il                    1.0   23-Feb-1899   \n",
       "4  Salt Lake City, Ut                    1.0   23-Apr-1894   \n",
       "\n",
       "   date_of_birth:confidence race_ethnicity        ...                  award  \\\n",
       "0                       1.0          White        ...          Best Director   \n",
       "1                       1.0          White        ...          Best Director   \n",
       "2                       1.0          White        ...          Best Director   \n",
       "3                       1.0          White        ...          Best Director   \n",
       "4                       1.0          White        ...          Best Director   \n",
       "\n",
       "                                      biourl  birthplace_gold  \\\n",
       "0  http://www.nndb.com/people/320/000043191/              NaN   \n",
       "1  http://www.nndb.com/people/626/000042500/              NaN   \n",
       "2  http://www.nndb.com/people/320/000043191/              NaN   \n",
       "3  http://www.nndb.com/people/544/000041421/              NaN   \n",
       "4  http://www.nndb.com/people/292/000044160/              NaN   \n",
       "\n",
       "  date_of_birth_gold                           movie           person  \\\n",
       "0                NaN             Two Arabian Knights  Lewis Milestone   \n",
       "1                NaN                 The Divine Lady      Frank Lloyd   \n",
       "2                NaN  All Quiet on the Western Front  Lewis Milestone   \n",
       "3                NaN                          Skippy    Norman Taurog   \n",
       "4                NaN                        Bad Girl    Frank Borzage   \n",
       "\n",
       "   race_ethnicity_gold religion_gold sexual_orientation_gold  \\\n",
       "0                  NaN           NaN                     NaN   \n",
       "1                  NaN           NaN                     NaN   \n",
       "2                  NaN           NaN                     NaN   \n",
       "3                  NaN           NaN                     NaN   \n",
       "4                  NaN           NaN                     NaN   \n",
       "\n",
       "  year_of_award_gold  \n",
       "0                NaN  \n",
       "1                NaN  \n",
       "2                NaN  \n",
       "3                NaN  \n",
       "4                NaN  \n",
       "\n",
       "[5 rows x 27 columns]"
      ]
     },
     "execution_count": 33,
     "metadata": {},
     "output_type": "execute_result"
    }
   ],
   "source": [
    "df = pd.read_csv('C:/Users/HP/Downloads/Oscars-demographics-DFE.csv' , encoding='latin-1')\n",
    "df.head()"
   ]
  },
  {
   "cell_type": "code",
   "execution_count": 3,
   "metadata": {},
   "outputs": [
    {
     "name": "stdout",
     "output_type": "stream",
     "text": [
      "(441, 27)\n",
      "_unit_id                           int64\n",
      "_golden                             bool\n",
      "_unit_state                       object\n",
      "_trusted_judgments                 int64\n",
      "_last_judgment_at                 object\n",
      "birthplace                        object\n",
      "birthplace:confidence            float64\n",
      "date_of_birth                     object\n",
      "date_of_birth:confidence         float64\n",
      "race_ethnicity                    object\n",
      "race_ethnicity:confidence        float64\n",
      "religion                          object\n",
      "religion:confidence              float64\n",
      "sexual_orientation                object\n",
      "sexual_orientation:confidence    float64\n",
      "year_of_award                      int64\n",
      "year_of_award:confidence         float64\n",
      "award                             object\n",
      "biourl                            object\n",
      "birthplace_gold                   object\n",
      "date_of_birth_gold                object\n",
      "movie                             object\n",
      "person                            object\n",
      "race_ethnicity_gold               object\n",
      "religion_gold                     object\n",
      "sexual_orientation_gold           object\n",
      "year_of_award_gold               float64\n",
      "dtype: object\n"
     ]
    }
   ],
   "source": [
    "print(df.shape)\n",
    "print(df.dtypes)"
   ]
  },
  {
   "cell_type": "markdown",
   "metadata": {},
   "source": [
    "Selección de columnas numéricas"
   ]
  },
  {
   "cell_type": "code",
   "execution_count": 17,
   "metadata": {},
   "outputs": [
    {
     "name": "stdout",
     "output_type": "stream",
     "text": [
      "['_unit_id' '_trusted_judgments' 'birthplace:confidence'\n",
      " 'date_of_birth:confidence' 'race_ethnicity:confidence'\n",
      " 'religion:confidence' 'sexual_orientation:confidence' 'year_of_award'\n",
      " 'year_of_award:confidence' 'year_of_award_gold']\n"
     ]
    }
   ],
   "source": [
    "df_numeric = df.select_dtypes(include=[np.number])\n",
    "numeric_cols = df_numeric.columns.values\n",
    "print(numeric_cols)"
   ]
  },
  {
   "cell_type": "markdown",
   "metadata": {},
   "source": [
    "Selección de columnas no numéricas"
   ]
  },
  {
   "cell_type": "code",
   "execution_count": 20,
   "metadata": {},
   "outputs": [
    {
     "name": "stdout",
     "output_type": "stream",
     "text": [
      "['_golden' '_unit_state' '_last_judgment_at' 'birthplace' 'date_of_birth'\n",
      " 'race_ethnicity' 'religion' 'sexual_orientation' 'award' 'biourl'\n",
      " 'birthplace_gold' 'date_of_birth_gold' 'movie' 'person'\n",
      " 'race_ethnicity_gold' 'religion_gold' 'sexual_orientation_gold'\n",
      " '_last_judgment_at_ismissing' 'birthplace_gold_ismissing'\n",
      " 'date_of_birth_gold_ismissing' 'race_ethnicity_gold_ismissing'\n",
      " 'religion_gold_ismissing' 'sexual_orientation_gold_ismissing'\n",
      " 'year_of_award_gold_ismissing']\n"
     ]
    }
   ],
   "source": [
    "df_non_numeric = df.select_dtypes(exclude=[np.number])\n",
    "non_numeric_cols = df_non_numeric.columns.values\n",
    "print(non_numeric_cols)"
   ]
  },
  {
   "cell_type": "markdown",
   "metadata": {},
   "source": [
    "El dataset tiene 441 registros y 27 atributos, de los cuales 10 son numéricas y 24 son no numéricas"
   ]
  },
  {
   "cell_type": "markdown",
   "metadata": {},
   "source": [
    "### Datos Faltantes "
   ]
  },
  {
   "cell_type": "markdown",
   "metadata": {},
   "source": [
    "#### Técnica #1: mapa de calor de los datos faltantes "
   ]
  },
  {
   "cell_type": "code",
   "execution_count": 23,
   "metadata": {},
   "outputs": [
    {
     "data": {
      "text/plain": [
       "<matplotlib.axes._subplots.AxesSubplot at 0x12fd1b0>"
      ]
     },
     "execution_count": 23,
     "metadata": {},
     "output_type": "execute_result"
    },
    {
     "data": {
      "image/png": "[encoded data removed]",
      "text/plain": [
       "<Figure size 432x288 with 2 Axes>"
      ]
     },
     "metadata": {
      "needs_background": "light"
     },
     "output_type": "display_data"
    }
   ],
   "source": [
    "cols = df.columns[:27] \n",
    "colours = ['#EEEDED', '#00B6FF'] \n",
    "sns.heatmap(df[cols].isnull(), cmap=sns.color_palette(colours))"
   ]
  },
  {
   "cell_type": "markdown",
   "metadata": {},
   "source": [
    "Azul es no missing"
   ]
  },
  {
   "cell_type": "markdown",
   "metadata": {},
   "source": [
    "#### Técnica #2: Lista de porcentaje de datos faltantes¶ "
   ]
  },
  {
   "cell_type": "code",
   "execution_count": 7,
   "metadata": {},
   "outputs": [
    {
     "name": "stdout",
     "output_type": "stream",
     "text": [
      "_last_judgment_at - 6.0%\n",
      "birthplace_gold - 98.0%\n",
      "date_of_birth_gold - 98.0%\n",
      "race_ethnicity_gold - 100.0%\n",
      "religion_gold - 98.0%\n",
      "sexual_orientation_gold - 99.0%\n",
      "year_of_award_gold - 98.0%\n"
     ]
    }
   ],
   "source": [
    "for col in df.columns:\n",
    "    pct_missing = np.mean(df[col].isnull())\n",
    "    if (pct_missing > 0):\n",
    "        #print(pct_missing)\n",
    "        print('{} - {}%'.format(col, round(pct_missing*100)))"
   ]
  },
  {
   "cell_type": "markdown",
   "metadata": {},
   "source": [
    "La variable _last_judgment_at no es un gran problema pues solo le falta 6%, en cambio las otras 6 son un caso serio, pues les felta entre el 98% y el 100% de datos!"
   ]
  },
  {
   "cell_type": "markdown",
   "metadata": {},
   "source": [
    "#### Técnica #3: Histograma de datos faltantes"
   ]
  },
  {
   "cell_type": "code",
   "execution_count": 24,
   "metadata": {},
   "outputs": [
    {
     "name": "stdout",
     "output_type": "stream",
     "text": [
      "created missing indicator for: _last_judgment_at\n",
      "created missing indicator for: birthplace_gold\n",
      "created missing indicator for: date_of_birth_gold\n",
      "created missing indicator for: race_ethnicity_gold\n",
      "created missing indicator for: religion_gold\n",
      "created missing indicator for: sexual_orientation_gold\n",
      "created missing indicator for: year_of_award_gold\n"
     ]
    },
    {
     "data": {
      "text/plain": [
       "<matplotlib.axes._subplots.AxesSubplot at 0xff7790>"
      ]
     },
     "execution_count": 24,
     "metadata": {},
     "output_type": "execute_result"
    },
    {
     "data": {
      "image/png": "[encoded data removed]",
      "text/plain": [
       "<Figure size 432x288 with 1 Axes>"
      ]
     },
     "metadata": {
      "needs_background": "light"
     },
     "output_type": "display_data"
    }
   ],
   "source": [
    "for col in df.columns:\n",
    "    missing = df[col].isnull()\n",
    "    num_missing = np.sum(missing)\n",
    "    \n",
    "    if num_missing > 0:  \n",
    "        print('created missing indicator for: {}'.format(col))\n",
    "        df['{}_ismissing'.format(col)] = missing\n",
    "        \n",
    "\n",
    "ismissing_cols = [col for col in df.columns if 'ismissing' in col]\n",
    "df['num_missing'] = df[ismissing_cols].sum(axis=1)\n",
    "\n",
    "df['num_missing'].value_counts().reset_index().sort_values(by='index').plot.bar(x='index', y='num_missing')"
   ]
  },
  {
   "cell_type": "markdown",
   "metadata": {},
   "source": [
    "### ¿Qué hacer? "
   ]
  },
  {
   "cell_type": "markdown",
   "metadata": {},
   "source": [
    "#### Técnica #1: Histograma y Box Plot"
   ]
  },
  {
   "cell_type": "markdown",
   "metadata": {},
   "source": [
    "Histograma de year_of_award_gold"
   ]
  },
  {
   "cell_type": "code",
   "execution_count": 26,
   "metadata": {},
   "outputs": [
    {
     "data": {
      "text/plain": [
       "<matplotlib.axes._subplots.AxesSubplot at 0x53dbe90>"
      ]
     },
     "execution_count": 26,
     "metadata": {},
     "output_type": "execute_result"
    },
    {
     "data": {
      "image/png": "[encoded data removed]",
      "text/plain": [
       "<Figure size 432x288 with 1 Axes>"
      ]
     },
     "metadata": {
      "needs_background": "light"
     },
     "output_type": "display_data"
    }
   ],
   "source": [
    "df['year_of_award_gold'].hist(bins=100)"
   ]
  },
  {
   "cell_type": "markdown",
   "metadata": {},
   "source": [
    "entre los años 70's y 80's hay muchos más valores que en los demás, lo cual es raro, pues debería de haber la misma cantidad ya que se reparten la misma cantidad de premios por años"
   ]
  },
  {
   "cell_type": "code",
   "execution_count": 27,
   "metadata": {},
   "outputs": [
    {
     "data": {
      "text/plain": [
       "<matplotlib.axes._subplots.AxesSubplot at 0xf8091f0>"
      ]
     },
     "execution_count": 27,
     "metadata": {},
     "output_type": "execute_result"
    },
    {
     "data": {
      "image/png": "[encoded data removed]",
      "text/plain": [
       "<Figure size 432x288 with 1 Axes>"
      ]
     },
     "metadata": {
      "needs_background": "light"
     },
     "output_type": "display_data"
    }
   ],
   "source": [
    "df.boxplot(column=['year_of_award_gold'])"
   ]
  },
  {
   "cell_type": "markdown",
   "metadata": {},
   "source": [
    "en el boxplot no se ven datos atípicos, aunque se puede observar la media entre los 80's y 70's"
   ]
  },
  {
   "cell_type": "markdown",
   "metadata": {},
   "source": [
    "#### Técnica #2: Estadística descriptiva"
   ]
  },
  {
   "cell_type": "code",
   "execution_count": 28,
   "metadata": {},
   "outputs": [
    {
     "data": {
      "text/plain": [
       "count      11.000000\n",
       "mean     1977.363636\n",
       "std        21.592928\n",
       "min      1942.000000\n",
       "25%      1964.000000\n",
       "50%      1977.000000\n",
       "75%      1997.000000\n",
       "max      2006.000000\n",
       "Name: year_of_award_gold, dtype: float64"
      ]
     },
     "execution_count": 28,
     "metadata": {},
     "output_type": "execute_result"
    }
   ],
   "source": [
    "df['year_of_award_gold'].describe()"
   ]
  },
  {
   "cell_type": "markdown",
   "metadata": {},
   "source": [
    "la estadística descriptiva también indica que la variable year_of_award_gold están bien distribuidas y tiene valores entre 1942 y 2006"
   ]
  },
  {
   "cell_type": "markdown",
   "metadata": {},
   "source": [
    "#### Técnica #3: Gráfico de barras"
   ]
  },
  {
   "cell_type": "markdown",
   "metadata": {},
   "source": [
    "Esta técnica funciona para variables categóricas, por lo que usaremos la variable religion_gold"
   ]
  },
  {
   "cell_type": "code",
   "execution_count": 29,
   "metadata": {},
   "outputs": [
    {
     "data": {
      "text/plain": [
       "<matplotlib.axes._subplots.AxesSubplot at 0xf8fea90>"
      ]
     },
     "execution_count": 29,
     "metadata": {},
     "output_type": "execute_result"
    },
    {
     "data": {
      "image/png": "[encoded data removed]",
      "text/plain": [
       "<Figure size 432x288 with 1 Axes>"
      ]
     },
     "metadata": {
      "needs_background": "light"
     },
     "output_type": "display_data"
    }
   ],
   "source": [
    "df['religion_gold'].value_counts().plot.bar()"
   ]
  },
  {
   "cell_type": "markdown",
   "metadata": {},
   "source": [
    " No se ven datos atípicos en religion_gold según la gráfica de barras, aunque hay muchos Na como lo vimos representaban el 98% del atributo "
   ]
  },
  {
   "cell_type": "markdown",
   "metadata": {},
   "source": [
    "El problema real con las variables con tantos missings de este DF es que no fueron llenados, porque al parecer el pequeño 2% que sí está registrado tiene distrubiciones buenas de datos a pesar de ser pocos, sin outliers como tal"
   ]
  },
  {
   "cell_type": "markdown",
   "metadata": {},
   "source": [
    "### Datos innecesarios"
   ]
  },
  {
   "cell_type": "markdown",
   "metadata": {},
   "source": [
    "¿Cómo descubrir datos innecesarios?"
   ]
  },
  {
   "cell_type": "markdown",
   "metadata": {},
   "source": [
    "#### Tipo innecesario #1: Desinformativo / Repetitivo\n"
   ]
  },
  {
   "cell_type": "markdown",
   "metadata": {},
   "source": [
    "Filas con con más del 95% de filas que tienen el mismo valor."
   ]
  },
  {
   "cell_type": "code",
   "execution_count": 34,
   "metadata": {},
   "outputs": [
    {
     "name": "stdout",
     "output_type": "stream",
     "text": [
      "birthplace:confidence: 98.18594%\n",
      "1.0000    433\n",
      "0.6667      5\n",
      "0.9593      1\n",
      "0.6571      1\n",
      "0.9595      1\n",
      "Name: birthplace:confidence, dtype: int64\n",
      "\n",
      "date_of_birth:confidence: 98.18594%\n",
      "1.0000    433\n",
      "0.6667      3\n",
      "0.9596      1\n",
      "0.9597      1\n",
      "0.9648      1\n",
      "0.9631      1\n",
      "0.6562      1\n",
      "Name: date_of_birth:confidence, dtype: int64\n",
      "\n",
      "race_ethnicity:confidence: 99.54649%\n",
      "1.0000    439\n",
      "0.6571      1\n",
      "0.9594      1\n",
      "Name: race_ethnicity:confidence, dtype: int64\n",
      "\n",
      "religion:confidence: 96.59864%\n",
      "1.0000    426\n",
      "0.6897      5\n",
      "0.6667      3\n",
      "0.3333      2\n",
      "0.9630      1\n",
      "0.9597      1\n",
      "0.6571      1\n",
      "0.6562      1\n",
      "0.9624      1\n",
      "Name: religion:confidence, dtype: int64\n",
      "\n",
      "sexual_orientation:confidence: 97.50567%\n",
      "1.0000    430\n",
      "0.6667      6\n",
      "0.6571      2\n",
      "0.6857      1\n",
      "0.6842      1\n",
      "0.9599      1\n",
      "Name: sexual_orientation:confidence, dtype: int64\n",
      "\n",
      "year_of_award:confidence: 96.37188%\n",
      "1.0000    425\n",
      "0.6667      6\n",
      "0.6897      2\n",
      "0.6923      1\n",
      "0.9643      1\n",
      "0.9195      1\n",
      "0.3333      1\n",
      "0.7227      1\n",
      "0.6857      1\n",
      "0.9642      1\n",
      "0.9646      1\n",
      "Name: year_of_award:confidence, dtype: int64\n",
      "\n",
      "birthplace_gold: 97.95918%\n",
      "NaN                        432\n",
      "New York City                2\n",
      "London, England              1\n",
      "Sucha, Galicia, Austria      1\n",
      "Ilford, Essex, England       1\n",
      "Bascom, Fl                   1\n",
      "La Jolla, Ca                 1\n",
      "Quincy, Il                   1\n",
      "Los Angeles, Ca              1\n",
      "Name: birthplace_gold, dtype: int64\n",
      "\n",
      "date_of_birth_gold: 98.18594%\n",
      "NaN          433\n",
      "5-Aug-06       1\n",
      "9-Jul-56       1\n",
      "27-Feb-30      1\n",
      "31-Oct-27      1\n",
      "22-Jun-06      1\n",
      "11-Dec-67      1\n",
      "16-Jun-07      1\n",
      "16-Jul-11      1\n",
      "Name: date_of_birth_gold, dtype: int64\n",
      "\n",
      "race_ethnicity_gold: 99.54649%\n",
      "NaN      439\n",
      "Black      1\n",
      "White      1\n",
      "Name: race_ethnicity_gold, dtype: int64\n",
      "\n",
      "religion_gold: 97.73243%\n",
      "NaN                     431\n",
      "Na                        3\n",
      "Jewish                    3\n",
      "Roman Catholic            2\n",
      "Buddhist                  1\n",
      "Born-Again Christian      1\n",
      "Name: religion_gold, dtype: int64\n",
      "\n",
      "sexual_orientation_gold: 99.31973%\n",
      "NaN         438\n",
      "Straight      2\n",
      "Bisexual      1\n",
      "Name: sexual_orientation_gold, dtype: int64\n",
      "\n",
      "year_of_award_gold: 97.50567%\n",
      "NaN        430\n",
      " 1977.0      2\n",
      " 1967.0      1\n",
      " 1942.0      1\n",
      " 2005.0      1\n",
      " 2006.0      1\n",
      " 1969.0      1\n",
      " 1953.0      1\n",
      " 1994.0      1\n",
      " 1961.0      1\n",
      " 2000.0      1\n",
      "Name: year_of_award_gold, dtype: int64\n",
      "\n"
     ]
    }
   ],
   "source": [
    "num_rows = len(df.index)\n",
    "low_information_cols = [] \n",
    "\n",
    "for col in df.columns:\n",
    "    cnts = df[col].value_counts(dropna=False)\n",
    "    top_pct = (cnts/num_rows).iloc[0]\n",
    "    \n",
    "    if top_pct > 0.95:\n",
    "        low_information_cols.append(col)\n",
    "        print('{0}: {1:.5f}%'.format(col, top_pct*100))\n",
    "        print(cnts)\n",
    "        print()"
   ]
  },
  {
   "cell_type": "markdown",
   "metadata": {},
   "source": [
    "No hay columnas repetitivas"
   ]
  },
  {
   "cell_type": "markdown",
   "metadata": {},
   "source": [
    "#### Tipo innecesario #2: Irrelevante"
   ]
  },
  {
   "cell_type": "markdown",
   "metadata": {},
   "source": [
    "Tomaremos como irrelevantes los datos con más de 98% en missings porque no nos aportan información"
   ]
  },
  {
   "cell_type": "code",
   "execution_count": 44,
   "metadata": {},
   "outputs": [],
   "source": [
    "l = ['date_of_birth_gold', 'race_ethnicity_gold', 'religion_gold', 'sexual_orientation_gold', 'year_of_award_gold']"
   ]
  },
  {
   "cell_type": "code",
   "execution_count": 45,
   "metadata": {},
   "outputs": [],
   "source": [
    "for i in range(len(l)):\n",
    "    df = df.drop(l[i], axis=1)"
   ]
  },
  {
   "cell_type": "code",
   "execution_count": 48,
   "metadata": {},
   "outputs": [
    {
     "data": {
      "text/html": [
       "<div>\n",
       "<style scoped>\n",
       "    .dataframe tbody tr th:only-of-type {\n",
       "        vertical-align: middle;\n",
       "    }\n",
       "\n",
       "    .dataframe tbody tr th {\n",
       "        vertical-align: top;\n",
       "    }\n",
       "\n",
       "    .dataframe thead th {\n",
       "        text-align: right;\n",
       "    }\n",
       "</style>\n",
       "<table border=\"1\" class=\"dataframe\">\n",
       "  <thead>\n",
       "    <tr style=\"text-align: right;\">\n",
       "      <th></th>\n",
       "      <th>_unit_id</th>\n",
       "      <th>_golden</th>\n",
       "      <th>_unit_state</th>\n",
       "      <th>_trusted_judgments</th>\n",
       "      <th>_last_judgment_at</th>\n",
       "      <th>birthplace</th>\n",
       "      <th>birthplace:confidence</th>\n",
       "      <th>date_of_birth</th>\n",
       "      <th>date_of_birth:confidence</th>\n",
       "      <th>race_ethnicity</th>\n",
       "      <th>...</th>\n",
       "      <th>religion</th>\n",
       "      <th>religion:confidence</th>\n",
       "      <th>sexual_orientation</th>\n",
       "      <th>sexual_orientation:confidence</th>\n",
       "      <th>year_of_award</th>\n",
       "      <th>year_of_award:confidence</th>\n",
       "      <th>award</th>\n",
       "      <th>biourl</th>\n",
       "      <th>movie</th>\n",
       "      <th>person</th>\n",
       "    </tr>\n",
       "  </thead>\n",
       "  <tbody>\n",
       "    <tr>\n",
       "      <th>0</th>\n",
       "      <td>670454353</td>\n",
       "      <td>False</td>\n",
       "      <td>finalized</td>\n",
       "      <td>3</td>\n",
       "      <td>2/10/15 3:45</td>\n",
       "      <td>Chisinau, Moldova</td>\n",
       "      <td>1.0</td>\n",
       "      <td>30-Sep-1895</td>\n",
       "      <td>1.0</td>\n",
       "      <td>White</td>\n",
       "      <td>...</td>\n",
       "      <td>Na</td>\n",
       "      <td>1.0</td>\n",
       "      <td>Straight</td>\n",
       "      <td>1.0000</td>\n",
       "      <td>1927</td>\n",
       "      <td>1.0000</td>\n",
       "      <td>Best Director</td>\n",
       "      <td>http://www.nndb.com/people/320/000043191/</td>\n",
       "      <td>Two Arabian Knights</td>\n",
       "      <td>Lewis Milestone</td>\n",
       "    </tr>\n",
       "    <tr>\n",
       "      <th>1</th>\n",
       "      <td>670454354</td>\n",
       "      <td>False</td>\n",
       "      <td>finalized</td>\n",
       "      <td>3</td>\n",
       "      <td>2/10/15 2:03</td>\n",
       "      <td>Glasgow, Scotland</td>\n",
       "      <td>1.0</td>\n",
       "      <td>2-Feb-1886</td>\n",
       "      <td>1.0</td>\n",
       "      <td>White</td>\n",
       "      <td>...</td>\n",
       "      <td>Na</td>\n",
       "      <td>1.0</td>\n",
       "      <td>Straight</td>\n",
       "      <td>0.6842</td>\n",
       "      <td>1930</td>\n",
       "      <td>1.0000</td>\n",
       "      <td>Best Director</td>\n",
       "      <td>http://www.nndb.com/people/626/000042500/</td>\n",
       "      <td>The Divine Lady</td>\n",
       "      <td>Frank Lloyd</td>\n",
       "    </tr>\n",
       "    <tr>\n",
       "      <th>2</th>\n",
       "      <td>670454355</td>\n",
       "      <td>False</td>\n",
       "      <td>finalized</td>\n",
       "      <td>3</td>\n",
       "      <td>2/10/15 2:05</td>\n",
       "      <td>Chisinau, Moldova</td>\n",
       "      <td>1.0</td>\n",
       "      <td>30-Sep-1895</td>\n",
       "      <td>1.0</td>\n",
       "      <td>White</td>\n",
       "      <td>...</td>\n",
       "      <td>Na</td>\n",
       "      <td>1.0</td>\n",
       "      <td>Straight</td>\n",
       "      <td>1.0000</td>\n",
       "      <td>1931</td>\n",
       "      <td>0.6667</td>\n",
       "      <td>Best Director</td>\n",
       "      <td>http://www.nndb.com/people/320/000043191/</td>\n",
       "      <td>All Quiet on the Western Front</td>\n",
       "      <td>Lewis Milestone</td>\n",
       "    </tr>\n",
       "    <tr>\n",
       "      <th>3</th>\n",
       "      <td>670454356</td>\n",
       "      <td>False</td>\n",
       "      <td>finalized</td>\n",
       "      <td>3</td>\n",
       "      <td>2/10/15 2:04</td>\n",
       "      <td>Chicago, Il</td>\n",
       "      <td>1.0</td>\n",
       "      <td>23-Feb-1899</td>\n",
       "      <td>1.0</td>\n",
       "      <td>White</td>\n",
       "      <td>...</td>\n",
       "      <td>Na</td>\n",
       "      <td>1.0</td>\n",
       "      <td>Straight</td>\n",
       "      <td>1.0000</td>\n",
       "      <td>1932</td>\n",
       "      <td>1.0000</td>\n",
       "      <td>Best Director</td>\n",
       "      <td>http://www.nndb.com/people/544/000041421/</td>\n",
       "      <td>Skippy</td>\n",
       "      <td>Norman Taurog</td>\n",
       "    </tr>\n",
       "    <tr>\n",
       "      <th>4</th>\n",
       "      <td>670454357</td>\n",
       "      <td>False</td>\n",
       "      <td>finalized</td>\n",
       "      <td>3</td>\n",
       "      <td>2/10/15 1:48</td>\n",
       "      <td>Salt Lake City, Ut</td>\n",
       "      <td>1.0</td>\n",
       "      <td>23-Apr-1894</td>\n",
       "      <td>1.0</td>\n",
       "      <td>White</td>\n",
       "      <td>...</td>\n",
       "      <td>Roman Catholic</td>\n",
       "      <td>1.0</td>\n",
       "      <td>Straight</td>\n",
       "      <td>1.0000</td>\n",
       "      <td>1933</td>\n",
       "      <td>1.0000</td>\n",
       "      <td>Best Director</td>\n",
       "      <td>http://www.nndb.com/people/292/000044160/</td>\n",
       "      <td>Bad Girl</td>\n",
       "      <td>Frank Borzage</td>\n",
       "    </tr>\n",
       "  </tbody>\n",
       "</table>\n",
       "<p>5 rows × 21 columns</p>\n",
       "</div>"
      ],
      "text/plain": [
       "    _unit_id  _golden _unit_state  _trusted_judgments _last_judgment_at  \\\n",
       "0  670454353    False   finalized                   3      2/10/15 3:45   \n",
       "1  670454354    False   finalized                   3      2/10/15 2:03   \n",
       "2  670454355    False   finalized                   3      2/10/15 2:05   \n",
       "3  670454356    False   finalized                   3      2/10/15 2:04   \n",
       "4  670454357    False   finalized                   3      2/10/15 1:48   \n",
       "\n",
       "           birthplace  birthplace:confidence date_of_birth  \\\n",
       "0   Chisinau, Moldova                    1.0   30-Sep-1895   \n",
       "1   Glasgow, Scotland                    1.0    2-Feb-1886   \n",
       "2   Chisinau, Moldova                    1.0   30-Sep-1895   \n",
       "3         Chicago, Il                    1.0   23-Feb-1899   \n",
       "4  Salt Lake City, Ut                    1.0   23-Apr-1894   \n",
       "\n",
       "   date_of_birth:confidence race_ethnicity       ...               religion  \\\n",
       "0                       1.0          White       ...                     Na   \n",
       "1                       1.0          White       ...                     Na   \n",
       "2                       1.0          White       ...                     Na   \n",
       "3                       1.0          White       ...                     Na   \n",
       "4                       1.0          White       ...         Roman Catholic   \n",
       "\n",
       "  religion:confidence  sexual_orientation sexual_orientation:confidence  \\\n",
       "0                 1.0            Straight                        1.0000   \n",
       "1                 1.0            Straight                        0.6842   \n",
       "2                 1.0            Straight                        1.0000   \n",
       "3                 1.0            Straight                        1.0000   \n",
       "4                 1.0            Straight                        1.0000   \n",
       "\n",
       "   year_of_award  year_of_award:confidence          award  \\\n",
       "0           1927                    1.0000  Best Director   \n",
       "1           1930                    1.0000  Best Director   \n",
       "2           1931                    0.6667  Best Director   \n",
       "3           1932                    1.0000  Best Director   \n",
       "4           1933                    1.0000  Best Director   \n",
       "\n",
       "                                      biourl                           movie  \\\n",
       "0  http://www.nndb.com/people/320/000043191/             Two Arabian Knights   \n",
       "1  http://www.nndb.com/people/626/000042500/                 The Divine Lady   \n",
       "2  http://www.nndb.com/people/320/000043191/  All Quiet on the Western Front   \n",
       "3  http://www.nndb.com/people/544/000041421/                          Skippy   \n",
       "4  http://www.nndb.com/people/292/000044160/                        Bad Girl   \n",
       "\n",
       "            person  \n",
       "0  Lewis Milestone  \n",
       "1      Frank Lloyd  \n",
       "2  Lewis Milestone  \n",
       "3    Norman Taurog  \n",
       "4    Frank Borzage  \n",
       "\n",
       "[5 rows x 21 columns]"
      ]
     },
     "execution_count": 48,
     "metadata": {},
     "output_type": "execute_result"
    }
   ],
   "source": [
    "df.head()"
   ]
  },
  {
   "cell_type": "markdown",
   "metadata": {},
   "source": [
    "#### Tipo innecesario #3: Duplicados"
   ]
  },
  {
   "cell_type": "markdown",
   "metadata": {},
   "source": [
    "######                       Duplicados tipo #1: todas las características"
   ]
  },
  {
   "cell_type": "code",
   "execution_count": 49,
   "metadata": {},
   "outputs": [
    {
     "name": "stdout",
     "output_type": "stream",
     "text": [
      "(441, 21)\n",
      "(441, 20)\n"
     ]
    }
   ],
   "source": [
    "df_dedupped = df.drop('_unit_id', axis=1).drop_duplicates()\n",
    "\n",
    "\n",
    "print(df.shape)\n",
    "print(df_dedupped.shape)"
   ]
  },
  {
   "cell_type": "markdown",
   "metadata": {},
   "source": [
    "#### Duplicados tipo #2: características claves"
   ]
  },
  {
   "cell_type": "markdown",
   "metadata": {},
   "source": [
    "Tomamos las primeras 5 características de los registros como clave"
   ]
  },
  {
   "cell_type": "code",
   "execution_count": 51,
   "metadata": {},
   "outputs": [
    {
     "data": {
      "text/plain": [
       "_golden  _unit_state  _last_judgment_at  birthplace                       date_of_birth  race_ethnicity\n",
       "True     golden       -999               Lincoln, Ne                      30-Jul-74      White             2\n",
       "False    finalized    2/10/15 2:05       New York City                    21-Dec-37      White             2\n",
       "                      2/10/15 2:04       Burbank, Ca                      17-Aug-60      White             2\n",
       "True     golden       -999               Woodlawn, Md                     11-Dec-67      Black             1\n",
       "False    finalized    2/10/15 2:01       London, England                  16-Feb-26      White             1\n",
       "                                         Nevada, Mo                       5-Aug-06       White             1\n",
       "                                         New York City                    2-Nov-13       White             1\n",
       "                                                                          21-Jun-21      White             1\n",
       "                                         San Bernardino, Ca               30-Jan-30      White             1\n",
       "                                         Scarborough, Yorkshire, England  31-Dec-43      Multiracial       1\n",
       "                      2/10/15 2:02       Budapest, Hungary                24-Dec-1886    White             1\n",
       "                                         Cape Elizabeth, Me               1-Feb-1894     White             1\n",
       "                                         Elmhurst, Ny                     14-Dec-46      White             1\n",
       "                                         Hamden, Ct                       24-Jan-17      White             1\n",
       "                                         Kirksville, Mo                   22-Nov-24      White             1\n",
       "                                         Paris, France                    30-Sep-75      White             1\n",
       "                      2/10/15 2:01       Benoni, South Africa             7-Aug-75       White             1\n",
       "                      2/10/15 2:02       Reading, England                 5-Oct-75       White             1\n",
       "                                         Richmond, Surrey, England        9-Feb-1891     White             1\n",
       "                                         Stockholm, Sweden                29-Aug-15      White             1\n",
       "Name: _unit_id, dtype: int64"
      ]
     },
     "execution_count": 51,
     "metadata": {},
     "output_type": "execute_result"
    }
   ],
   "source": [
    "key = ['_golden', '_unit_state', '_last_judgment_at', 'birthplace', 'date_of_birth', 'race_ethnicity']\n",
    "\n",
    "df.fillna(-999).groupby(key)['_unit_id'].count().sort_values(ascending=False).head(20)"
   ]
  },
  {
   "cell_type": "code",
   "execution_count": 52,
   "metadata": {},
   "outputs": [
    {
     "name": "stdout",
     "output_type": "stream",
     "text": [
      "(441, 21)\n",
      "(438, 21)\n"
     ]
    }
   ],
   "source": [
    "df_dedupped2 = df.drop_duplicates(subset=key)\n",
    "\n",
    "print(df.shape)\n",
    "print(df_dedupped2.shape)"
   ]
  },
  {
   "cell_type": "markdown",
   "metadata": {},
   "source": [
    "No hubo ninguna columna duplicada por características clave"
   ]
  },
  {
   "cell_type": "markdown",
   "metadata": {},
   "source": [
    "### Datos inconsistentes"
   ]
  },
  {
   "cell_type": "markdown",
   "metadata": {},
   "source": [
    "#### Tipo inconsistente #1: Capitalización"
   ]
  },
  {
   "cell_type": "code",
   "execution_count": 54,
   "metadata": {},
   "outputs": [
    {
     "data": {
      "text/plain": [
       "New York City                              35\n",
       "London, England                            24\n",
       "Los Angeles, Ca                            16\n",
       "Chicago, Il                                13\n",
       "Brooklyn, Ny                                9\n",
       "Hartford, Ct                                5\n",
       "Paris, France                               5\n",
       "Philadelphia, Pa                            5\n",
       "Tokyo, Japan                                4\n",
       "La Jolla, Ca                                4\n",
       "Kansas City, Mo                             4\n",
       "Cape Elizabeth, Me                          4\n",
       "Lincoln, Ne                                 4\n",
       "Vienna, Austria                             4\n",
       "Swampscott, Ma                              3\n",
       "Lowell, Ma                                  3\n",
       "Mulhouse, Haut-Rhin, Alsace, France         3\n",
       "Croydon, Surrey, England                    3\n",
       "Sucha, Galicia, Austria                     3\n",
       "Bronx, Ny                                   3\n",
       "St. Louis, Mo                               3\n",
       "Washington, Dc                              3\n",
       "Helena, Mt                                  3\n",
       "Pasadena, Ca                                3\n",
       "Mount Vernon, Ny                            3\n",
       "Concord, Ca                                 3\n",
       "Bisacquino, Sicily, Italy                   3\n",
       "Summit, Nj                                  3\n",
       "Stockholm, Sweden                           3\n",
       "Toronto, Ontario, Canada                    3\n",
       "                                           ..\n",
       "Uvalde, Tx                                  1\n",
       "Miami, Fl                                   1\n",
       "Evanston, Il                                1\n",
       "Culver City, Ca                             1\n",
       "Samrong Young, Cambodia                     1\n",
       "Hastings, Ne                                1\n",
       "Montreal, Quebec, Canada                    1\n",
       "Racine, Wi                                  1\n",
       "Kenosha, Wi                                 1\n",
       "Newport, Ar                                 1\n",
       "Hunt City, Il                               1\n",
       "Chabua, Assam, India                        1\n",
       "Rueil-Malmaison, Hauts-De-Seine, France     1\n",
       "Hoboken, Nj                                 1\n",
       "Withington, Manchester, England             1\n",
       "Catskill Mountains, Ny                      1\n",
       "Athens, Ga                                  1\n",
       "Neath, Wales                                1\n",
       "Pozzuoli, Italy                             1\n",
       "Rome, Italy                                 1\n",
       "Flushing, Ny                                1\n",
       "Waxahachie, Tx                              1\n",
       "Pittsburgh, Pa                              1\n",
       "Reading, Berkshire, England                 1\n",
       "Wise, Va                                    1\n",
       "Lima, Oh                                    1\n",
       "New Brunswick, Nj                           1\n",
       "Grayshott, Hampshire, England               1\n",
       "Bucharest, Romania                          1\n",
       "Litchfield, Mn                              1\n",
       "Name: birthplace, Length: 233, dtype: int64"
      ]
     },
     "execution_count": 54,
     "metadata": {},
     "output_type": "execute_result"
    }
   ],
   "source": [
    "df['birthplace'].value_counts(dropna=False)"
   ]
  },
  {
   "cell_type": "code",
   "execution_count": 55,
   "metadata": {},
   "outputs": [
    {
     "data": {
      "text/plain": [
       "NEW YORK CITY                                 35\n",
       "LONDON, ENGLAND                               24\n",
       "LOS ANGELES, CA                               16\n",
       "CHICAGO, IL                                   13\n",
       "BROOKLYN, NY                                   9\n",
       "PARIS, FRANCE                                  5\n",
       "HARTFORD, CT                                   5\n",
       "PHILADELPHIA, PA                               5\n",
       "VIENNA, AUSTRIA                                4\n",
       "TOKYO, JAPAN                                   4\n",
       "LINCOLN, NE                                    4\n",
       "CAPE ELIZABETH, ME                             4\n",
       "KANSAS CITY, MO                                4\n",
       "LA JOLLA, CA                                   4\n",
       "CONCORD, CA                                    3\n",
       "LOWELL, MA                                     3\n",
       "BRONX, NY                                      3\n",
       "ST. LOUIS, MO                                  3\n",
       "MULHOUSE, HAUT-RHIN, ALSACE, FRANCE            3\n",
       "SUCHA, GALICIA, AUSTRIA                        3\n",
       "STOCKHOLM, SWEDEN                              3\n",
       "CROYDON, SURREY, ENGLAND                       3\n",
       "OAKLAND, CA                                    3\n",
       "ILFORD, ESSEX, ENGLAND                         3\n",
       "DETROIT, MI                                    3\n",
       "SWAMPSCOTT, MA                                 3\n",
       "SUMMIT, NJ                                     3\n",
       "MOUNT VERNON, NY                               3\n",
       "BISACQUINO, SICILY, ITALY                      3\n",
       "PASADENA, CA                                   3\n",
       "                                              ..\n",
       "READING, BERKSHIRE, ENGLAND                    1\n",
       "LINCOLN, LINCOLNSHIRE, ENGLAND                 1\n",
       "WALTON-ON-THAMES, SURREY, ENGLAND              1\n",
       "TERRELL, TX                                    1\n",
       "WEST COVINA, CA                                1\n",
       "UVALDE, TX                                     1\n",
       "JERUSALEM, ISRAEL                              1\n",
       "LAS PALMAS DE GRAN CANARIA, CANARY ISLANDS     1\n",
       "MANHATTAN, NY                                  1\n",
       "WITHINGTON, MANCHESTER, ENGLAND                1\n",
       "TULSA, OK                                      1\n",
       "OLD WESTBURY, NY                               1\n",
       "EDINBURGH, SCOTLAND                            1\n",
       "BALTIMORE, MD                                  1\n",
       "YORK, NORTH YORKSHIRE, ENGLAND                 1\n",
       "ROME, ITALY                                    1\n",
       "SAVANNAH, GA                                   1\n",
       "RYDE, ISLE OF WIGHT, ENGLAND                   1\n",
       "MEXICO CITY, MEXICO                            1\n",
       "WAREHAM, MA                                    1\n",
       "ATHENS, GREECE                                 1\n",
       "EL CENTRO, CA                                  1\n",
       "EAST HARLEM, NEW YORK CITY                     1\n",
       "CAMBRIDGE, ENGLAND                             1\n",
       "BENONI, SOUTH AFRICA                           1\n",
       "MADRID, SPAIN                                  1\n",
       "LITCHFIELD, MN                                 1\n",
       "NORWOOD, OH                                    1\n",
       "ELMHURST, NY                                   1\n",
       "HAVERFORDWEST, PEMBROKESHIRE, WALES            1\n",
       "Name: birthplace_upper, Length: 233, dtype: int64"
      ]
     },
     "execution_count": 55,
     "metadata": {},
     "output_type": "execute_result"
    }
   ],
   "source": [
    "df['birthplace_upper'] = df['birthplace'].str.upper()\n",
    "df['birthplace_upper'].value_counts(dropna=False)"
   ]
  },
  {
   "cell_type": "markdown",
   "metadata": {},
   "source": [
    "#### Tipo inconsistente #2: Formatos"
   ]
  },
  {
   "cell_type": "code",
   "execution_count": 60,
   "metadata": {},
   "outputs": [
    {
     "data": {
      "text/plain": [
       "2/10/15 2:04    28\n",
       "2/10/15 2:05    28\n",
       "2/10/15 1:59    24\n",
       "2/10/15 2:03    20\n",
       "2/10/15 1:51    20\n",
       "2/10/15 2:00    16\n",
       "2/10/15 3:50    12\n",
       "2/10/15 2:07    12\n",
       "2/10/15 1:55    12\n",
       "2/10/15 2:02    12\n",
       "2/10/15 2:18    12\n",
       "2/10/15 1:46     8\n",
       "2/10/15 2:10     8\n",
       "2/10/15 4:02     8\n",
       "2/10/15 4:07     8\n",
       "2/10/15 2:12     8\n",
       "2/10/15 2:15     8\n",
       "2/10/15 2:06     8\n",
       "2/10/15 1:53     8\n",
       "2/10/15 2:11     8\n",
       "2/10/15 2:08     8\n",
       "2/10/15 2:14     8\n",
       "2/10/15 1:49     8\n",
       "2/10/15 1:52     8\n",
       "2/10/15 4:08     8\n",
       "2/10/15 1:57     8\n",
       "2/10/15 1:56     8\n",
       "2/10/15 2:01     8\n",
       "2/10/15 3:55     4\n",
       "2/10/15 3:51     4\n",
       "2/10/15 2:13     4\n",
       "2/10/15 3:45     4\n",
       "2/10/15 2:41     4\n",
       "2/10/15 3:57     4\n",
       "2/10/15 3:56     4\n",
       "2/10/15 4:21     4\n",
       "2/10/15 1:48     4\n",
       "2/10/15 1:47     4\n",
       "2/10/15 2:09     4\n",
       "2/10/15 4:14     4\n",
       "2/10/15 3:48     4\n",
       "2/10/15 2:29     4\n",
       "2/10/15 4:06     4\n",
       "2/10/15 1:58     4\n",
       "2/10/15 3:58     4\n",
       "2/10/15 2:16     4\n",
       "2/10/15 1:43     4\n",
       "2/10/15 3:53     4\n",
       "2/10/15 2:19     4\n",
       "Name: _last_judgment_at, dtype: int64"
      ]
     },
     "execution_count": 60,
     "metadata": {},
     "output_type": "execute_result"
    }
   ],
   "source": [
    "df._last_judgment_at.value_counts()"
   ]
  },
  {
   "cell_type": "code",
   "execution_count": 61,
   "metadata": {},
   "outputs": [
    {
     "data": {
      "text/plain": [
       "count              416\n",
       "unique              49\n",
       "top       2/10/15 2:04\n",
       "freq                28\n",
       "Name: _last_judgment_at, dtype: object"
      ]
     },
     "execution_count": 61,
     "metadata": {},
     "output_type": "execute_result"
    }
   ],
   "source": [
    "df._last_judgment_at.describe()"
   ]
  },
  {
   "cell_type": "code",
   "execution_count": 78,
   "metadata": {},
   "outputs": [
    {
     "name": "stdout",
     "output_type": "stream",
     "text": [
      " 2015.0    416\n",
      "NaN         25\n",
      "Name: year, dtype: int64\n",
      "\n",
      " 2.0    416\n",
      "NaN      25\n",
      "Name: month, dtype: int64\n"
     ]
    }
   ],
   "source": [
    "df['_last_judgment_at_dt'] = pd.to_datetime(df['_last_judgment_at'])\n",
    "df['year'] = df['_last_judgment_at_dt'].dt.year\n",
    "df['month'] = df['_last_judgment_at_dt'].dt.month\n",
    "df['weekday'] = df['_last_judgment_at_dt'].dt.weekday\n",
    "\n",
    "print(df['year'].value_counts(dropna=False))\n",
    "print()\n",
    "print(df['month'].value_counts(dropna=False))"
   ]
  },
  {
   "cell_type": "markdown",
   "metadata": {},
   "source": [
    "#### Tipo inconsistente #3: Valores categóricos"
   ]
  },
  {
   "cell_type": "markdown",
   "metadata": {},
   "source": [
    "#### Tipo inconsistente #4: Direcciones"
   ]
  },
  {
   "cell_type": "code",
   "execution_count": 82,
   "metadata": {},
   "outputs": [
    {
     "data": {
      "text/html": [
       "<div>\n",
       "<style scoped>\n",
       "    .dataframe tbody tr th:only-of-type {\n",
       "        vertical-align: middle;\n",
       "    }\n",
       "\n",
       "    .dataframe tbody tr th {\n",
       "        vertical-align: top;\n",
       "    }\n",
       "\n",
       "    .dataframe thead th {\n",
       "        text-align: right;\n",
       "    }\n",
       "</style>\n",
       "<table border=\"1\" class=\"dataframe\">\n",
       "  <thead>\n",
       "    <tr style=\"text-align: right;\">\n",
       "      <th></th>\n",
       "      <th>_unit_id</th>\n",
       "      <th>_golden</th>\n",
       "      <th>_unit_state</th>\n",
       "      <th>_trusted_judgments</th>\n",
       "      <th>_last_judgment_at</th>\n",
       "      <th>birthplace</th>\n",
       "      <th>birthplace:confidence</th>\n",
       "      <th>date_of_birth</th>\n",
       "      <th>date_of_birth:confidence</th>\n",
       "      <th>race_ethnicity</th>\n",
       "      <th>...</th>\n",
       "      <th>award</th>\n",
       "      <th>biourl</th>\n",
       "      <th>movie</th>\n",
       "      <th>person</th>\n",
       "      <th>birthplace_upper</th>\n",
       "      <th>_last_judgment_at_dt</th>\n",
       "      <th>year</th>\n",
       "      <th>month</th>\n",
       "      <th>weekday</th>\n",
       "      <th>birthplace_std</th>\n",
       "    </tr>\n",
       "  </thead>\n",
       "  <tbody>\n",
       "    <tr>\n",
       "      <th>0</th>\n",
       "      <td>670454353</td>\n",
       "      <td>False</td>\n",
       "      <td>finalized</td>\n",
       "      <td>3</td>\n",
       "      <td>2/10/15 3:45</td>\n",
       "      <td>Chisinau, Moldova</td>\n",
       "      <td>1.0</td>\n",
       "      <td>30-Sep-1895</td>\n",
       "      <td>1.0</td>\n",
       "      <td>White</td>\n",
       "      <td>...</td>\n",
       "      <td>Best Director</td>\n",
       "      <td>http://www.nndb.com/people/320/000043191/</td>\n",
       "      <td>Two Arabian Knights</td>\n",
       "      <td>Lewis Milestone</td>\n",
       "      <td>CHISINAU, MOLDOVA</td>\n",
       "      <td>2015-02-10 03:45:00</td>\n",
       "      <td>2015.0</td>\n",
       "      <td>2.0</td>\n",
       "      <td>1.0</td>\n",
       "      <td>chisinau, moldova</td>\n",
       "    </tr>\n",
       "    <tr>\n",
       "      <th>1</th>\n",
       "      <td>670454354</td>\n",
       "      <td>False</td>\n",
       "      <td>finalized</td>\n",
       "      <td>3</td>\n",
       "      <td>2/10/15 2:03</td>\n",
       "      <td>Glasgow, Scotland</td>\n",
       "      <td>1.0</td>\n",
       "      <td>2-Feb-1886</td>\n",
       "      <td>1.0</td>\n",
       "      <td>White</td>\n",
       "      <td>...</td>\n",
       "      <td>Best Director</td>\n",
       "      <td>http://www.nndb.com/people/626/000042500/</td>\n",
       "      <td>The Divine Lady</td>\n",
       "      <td>Frank Lloyd</td>\n",
       "      <td>GLASGOW, SCOTLAND</td>\n",
       "      <td>2015-02-10 02:03:00</td>\n",
       "      <td>2015.0</td>\n",
       "      <td>2.0</td>\n",
       "      <td>1.0</td>\n",
       "      <td>glasgow, scotland</td>\n",
       "    </tr>\n",
       "    <tr>\n",
       "      <th>2</th>\n",
       "      <td>670454355</td>\n",
       "      <td>False</td>\n",
       "      <td>finalized</td>\n",
       "      <td>3</td>\n",
       "      <td>2/10/15 2:05</td>\n",
       "      <td>Chisinau, Moldova</td>\n",
       "      <td>1.0</td>\n",
       "      <td>30-Sep-1895</td>\n",
       "      <td>1.0</td>\n",
       "      <td>White</td>\n",
       "      <td>...</td>\n",
       "      <td>Best Director</td>\n",
       "      <td>http://www.nndb.com/people/320/000043191/</td>\n",
       "      <td>All Quiet on the Western Front</td>\n",
       "      <td>Lewis Milestone</td>\n",
       "      <td>CHISINAU, MOLDOVA</td>\n",
       "      <td>2015-02-10 02:05:00</td>\n",
       "      <td>2015.0</td>\n",
       "      <td>2.0</td>\n",
       "      <td>1.0</td>\n",
       "      <td>chisinau, moldova</td>\n",
       "    </tr>\n",
       "    <tr>\n",
       "      <th>3</th>\n",
       "      <td>670454356</td>\n",
       "      <td>False</td>\n",
       "      <td>finalized</td>\n",
       "      <td>3</td>\n",
       "      <td>2/10/15 2:04</td>\n",
       "      <td>Chicago, Il</td>\n",
       "      <td>1.0</td>\n",
       "      <td>23-Feb-1899</td>\n",
       "      <td>1.0</td>\n",
       "      <td>White</td>\n",
       "      <td>...</td>\n",
       "      <td>Best Director</td>\n",
       "      <td>http://www.nndb.com/people/544/000041421/</td>\n",
       "      <td>Skippy</td>\n",
       "      <td>Norman Taurog</td>\n",
       "      <td>CHICAGO, IL</td>\n",
       "      <td>2015-02-10 02:04:00</td>\n",
       "      <td>2015.0</td>\n",
       "      <td>2.0</td>\n",
       "      <td>1.0</td>\n",
       "      <td>chicago, il</td>\n",
       "    </tr>\n",
       "    <tr>\n",
       "      <th>4</th>\n",
       "      <td>670454357</td>\n",
       "      <td>False</td>\n",
       "      <td>finalized</td>\n",
       "      <td>3</td>\n",
       "      <td>2/10/15 1:48</td>\n",
       "      <td>Salt Lake City, Ut</td>\n",
       "      <td>1.0</td>\n",
       "      <td>23-Apr-1894</td>\n",
       "      <td>1.0</td>\n",
       "      <td>White</td>\n",
       "      <td>...</td>\n",
       "      <td>Best Director</td>\n",
       "      <td>http://www.nndb.com/people/292/000044160/</td>\n",
       "      <td>Bad Girl</td>\n",
       "      <td>Frank Borzage</td>\n",
       "      <td>SALT LAKE CITY, UT</td>\n",
       "      <td>2015-02-10 01:48:00</td>\n",
       "      <td>2015.0</td>\n",
       "      <td>2.0</td>\n",
       "      <td>1.0</td>\n",
       "      <td>salt lake city, ut</td>\n",
       "    </tr>\n",
       "  </tbody>\n",
       "</table>\n",
       "<p>5 rows × 27 columns</p>\n",
       "</div>"
      ],
      "text/plain": [
       "    _unit_id  _golden _unit_state  _trusted_judgments _last_judgment_at  \\\n",
       "0  670454353    False   finalized                   3      2/10/15 3:45   \n",
       "1  670454354    False   finalized                   3      2/10/15 2:03   \n",
       "2  670454355    False   finalized                   3      2/10/15 2:05   \n",
       "3  670454356    False   finalized                   3      2/10/15 2:04   \n",
       "4  670454357    False   finalized                   3      2/10/15 1:48   \n",
       "\n",
       "           birthplace  birthplace:confidence date_of_birth  \\\n",
       "0   Chisinau, Moldova                    1.0   30-Sep-1895   \n",
       "1   Glasgow, Scotland                    1.0    2-Feb-1886   \n",
       "2   Chisinau, Moldova                    1.0   30-Sep-1895   \n",
       "3         Chicago, Il                    1.0   23-Feb-1899   \n",
       "4  Salt Lake City, Ut                    1.0   23-Apr-1894   \n",
       "\n",
       "   date_of_birth:confidence race_ethnicity         ...                  award  \\\n",
       "0                       1.0          White         ...          Best Director   \n",
       "1                       1.0          White         ...          Best Director   \n",
       "2                       1.0          White         ...          Best Director   \n",
       "3                       1.0          White         ...          Best Director   \n",
       "4                       1.0          White         ...          Best Director   \n",
       "\n",
       "                                      biourl                           movie  \\\n",
       "0  http://www.nndb.com/people/320/000043191/             Two Arabian Knights   \n",
       "1  http://www.nndb.com/people/626/000042500/                 The Divine Lady   \n",
       "2  http://www.nndb.com/people/320/000043191/  All Quiet on the Western Front   \n",
       "3  http://www.nndb.com/people/544/000041421/                          Skippy   \n",
       "4  http://www.nndb.com/people/292/000044160/                        Bad Girl   \n",
       "\n",
       "            person    birthplace_upper  _last_judgment_at_dt    year month  \\\n",
       "0  Lewis Milestone   CHISINAU, MOLDOVA   2015-02-10 03:45:00  2015.0   2.0   \n",
       "1      Frank Lloyd   GLASGOW, SCOTLAND   2015-02-10 02:03:00  2015.0   2.0   \n",
       "2  Lewis Milestone   CHISINAU, MOLDOVA   2015-02-10 02:05:00  2015.0   2.0   \n",
       "3    Norman Taurog         CHICAGO, IL   2015-02-10 02:04:00  2015.0   2.0   \n",
       "4    Frank Borzage  SALT LAKE CITY, UT   2015-02-10 01:48:00  2015.0   2.0   \n",
       "\n",
       "  weekday      birthplace_std  \n",
       "0     1.0   chisinau, moldova  \n",
       "1     1.0   glasgow, scotland  \n",
       "2     1.0   chisinau, moldova  \n",
       "3     1.0         chicago, il  \n",
       "4     1.0  salt lake city, ut  \n",
       "\n",
       "[5 rows x 27 columns]"
      ]
     },
     "execution_count": 82,
     "metadata": {},
     "output_type": "execute_result"
    }
   ],
   "source": [
    "df['birthplace_std'] = df['birthplace'].str.lower()\n",
    "df['birthplace_std'] = df['birthplace_std'].str.strip() # remove leading and trailing whitespace.\n",
    "df['birthplace_std'] = df['birthplace_std'].str.replace('\\\\.', '') # remove period.\n",
    "df['birthplace_std'] = df['birthplace_std'].str.replace('\\\\bstreet\\\\b', 'st') # replace street with st.\n",
    "df['birthplace_std'] = df['birthplace_std'].str.replace('\\\\bapartment\\\\b', 'apt') # replace apartment with apt.\n",
    "df['birthplace_std'] = df['birthplace_std'].str.replace('\\\\bav\\\\b', 'ave') # replace apartment with apt.\n",
    "df.head()"
   ]
  }
 ],
 "metadata": {
  "kernelspec": {
   "display_name": "Python 3",
   "language": "python",
   "name": "python3"
  },
  "language_info": {
   "codemirror_mode": {
    "name": "ipython",
    "version": 3
   },
   "file_extension": ".py",
   "mimetype": "text/x-python",
   "name": "python",
   "nbconvert_exporter": "python",
   "pygments_lexer": "ipython3",
   "version": "3.7.1"
  }
 },
 "nbformat": 4,
 "nbformat_minor": 2
}
